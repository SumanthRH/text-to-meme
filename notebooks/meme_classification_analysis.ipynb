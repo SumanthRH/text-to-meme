{
 "cells": [
  {
   "cell_type": "code",
   "execution_count": 6,
   "id": "e9462535-8bb2-41bd-a9d6-8c684c5ab01e",
   "metadata": {},
   "outputs": [],
   "source": [
    "# imports\n",
    "import sys\n",
    "sys.path.append('../')\n",
    "import math, statistics, time\n",
    "from collections import defaultdict\n",
    "import numpy as np\n",
    "from datetime import datetime\n",
    "import pickle\n",
    "import pandas as pd\n",
    "import torch.nn as nn\n",
    "import torch\n",
    "import numpy as np\n",
    "from torch.utils.data import DataLoader, Dataset\n",
    "from sentence_transformers import SentenceTransformer, LoggingHandler, losses, InputExample\n",
    "from tqdm import tqdm\n",
    "from utils.sbert_meme_classifier import Classifier\n",
    "\n",
    "base_model = 'roberta-base'\n",
    "device = 'cuda' if torch.cuda.is_available() else 'cpu'\n",
    "\n",
    "num_epochs = 20\n",
    "# model_save_path = '../models/sentence_transformer_'+str(num_epochs)\n",
    "model_save_path = '../models/sentence_transformer_30'\n",
    "\n",
    "with open('../data/training_label.pkl', 'rb') as f:\n",
    "    labels = pickle.load(f)"
   ]
  },
  {
   "cell_type": "code",
   "execution_count": 2,
   "id": "5dd81749-b5ec-4b91-8a08-f146e835fcc3",
   "metadata": {},
   "outputs": [
    {
     "name": "stdout",
     "output_type": "stream",
     "text": [
      "Keys in meme dict dataset: dict_keys(['label_uuid_dic', 'uuid_label_dic', 'uuid_caption_dic', 'uuid_image_path_dic', 'uuid_caption_cased_dic'])\n",
      "Number of uuids: 300\n"
     ]
    }
   ],
   "source": [
    "# load meme dataset\n",
    "meme_dict = None\n",
    "with open('../data/meme_900k_cleaned_data_v2.pkl', 'rb') as f:\n",
    "    meme_dict = pickle.load(f)\n",
    "print(\"Keys in meme dict dataset:\", meme_dict.keys())\n",
    "print(\"Number of uuids:\", len(meme_dict['uuid_label_dic']))"
   ]
  },
  {
   "cell_type": "code",
   "execution_count": 3,
   "id": "17dea615-1b4b-48be-af2a-5302cf154886",
   "metadata": {},
   "outputs": [],
   "source": [
    "# utility functions\n",
    "def clean_and_unify_caption(caption):\n",
    "    return caption[0].strip()+'; '+caption[1].strip()"
   ]
  },
  {
   "cell_type": "code",
   "execution_count": 4,
   "id": "fac9d424-a324-44cf-a863-44fe4c63e651",
   "metadata": {},
   "outputs": [
    {
     "name": "stdout",
     "output_type": "stream",
     "text": [
      "202500 22500\n"
     ]
    }
   ],
   "source": [
    "# create pandas dataframe\n",
    "training_uuids = labels.keys()\n",
    "temp_arr = []\n",
    "for uuid in training_uuids:\n",
    "    for caption in meme_dict['uuid_caption_dic'][uuid]:\n",
    "        temp_arr.append([uuid, clean_and_unify_caption(caption)])\n",
    "df = pd.DataFrame(temp_arr, columns=['category', 'text'])\n",
    "\n",
    "# split dataset\n",
    "np.random.seed(42)\n",
    "df_train, df_test = np.split(df.sample(frac=1, random_state=42), [int(.9*len(df))])\n",
    "\n",
    "print(len(df_train), len(df_test))"
   ]
  },
  {
   "cell_type": "markdown",
   "id": "5e105b89-c84d-47df-a0db-2348d8fcbd02",
   "metadata": {},
   "source": [
    "### Analysis for sbert models"
   ]
  },
  {
   "cell_type": "code",
   "execution_count": 10,
   "id": "b0435496-972d-4bcf-b249-febbfee76860",
   "metadata": {},
   "outputs": [],
   "source": [
    "ks = [1,3,5,10]\n",
    "model_names = ['roberta_base',\n",
    "                'sentence_transformer_5',\n",
    "              'sentence_transformer_roberta_20',\n",
    "              'sentence_transformer_roberta_30']"
   ]
  },
  {
   "cell_type": "code",
   "execution_count": 11,
   "id": "13b75811-6eb2-4ee0-a752-31d42840f8f3",
   "metadata": {},
   "outputs": [],
   "source": [
    "accuracy_dict = {}"
   ]
  },
  {
   "cell_type": "code",
   "execution_count": 13,
   "id": "8a1f8402-307b-41d1-a3c8-7b3dfad67870",
   "metadata": {},
   "outputs": [],
   "source": [
    "for model_name in model_names:\n",
    "    clf = Classifier(model_name=model_name)\n",
    "    accuracy_dict[model_name] = clf.topKAccuracy(ks, df_test[:1])"
   ]
  },
  {
   "cell_type": "code",
   "execution_count": 14,
   "id": "a2098a5e-987d-44f4-becb-5421b87acfd6",
   "metadata": {},
   "outputs": [],
   "source": [
    "# with open('accuracy_dict.pkl', 'wb') as f:\n",
    "#     pickle.dump(accuracy_dict, f)"
   ]
  }
 ],
 "metadata": {
  "kernelspec": {
   "display_name": "meme",
   "language": "python",
   "name": "meme"
  },
  "language_info": {
   "codemirror_mode": {
    "name": "ipython",
    "version": 3
   },
   "file_extension": ".py",
   "mimetype": "text/x-python",
   "name": "python",
   "nbconvert_exporter": "python",
   "pygments_lexer": "ipython3",
   "version": "3.9.1"
  }
 },
 "nbformat": 4,
 "nbformat_minor": 5
}
